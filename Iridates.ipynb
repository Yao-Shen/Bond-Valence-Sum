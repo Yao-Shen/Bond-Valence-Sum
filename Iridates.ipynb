{
 "cells": [
  {
   "cell_type": "code",
   "execution_count": 1,
   "metadata": {},
   "outputs": [],
   "source": [
    "import numpy as np"
   ]
  },
  {
   "cell_type": "markdown",
   "metadata": {},
   "source": [
    "### Bond Valence Sum\n",
    "\n",
    "The bond valence method or mean method (or bond valence sum) (not to be mistaken for the valence bond theory in quantum chemistry) is a popular method in coordination chemistry to estimate the oxidation states of atoms. It is derived from the bond valence model, which is a simple yet robust model for validating chemical structures with localized bonds or used to predict some of their properties. This model is a development of Pauling's rules.\n",
    "\n",
    "The basic method is that the valence $V$ of an atom is the sum of the individual bond valences $v_i$ surrounding the atom:\n",
    "\n",
    "$V = \\sum(v_i) = \\exp(\\frac{R_0 - R_i}{b})$\n",
    "\n",
    "$R_i$ is the observed bond length, $R_0$ is a tabulated parameter expressing the (ideal) bond length when the element $i$ has exactly valence 1, and $b$ is an empirical constant, typically 0.37 $\\unicode{x212B}$.\n",
    "\n",
    "from https://en.wikipedia.org/wiki/Bond_valence_method"
   ]
  },
  {
   "cell_type": "markdown",
   "metadata": {},
   "source": [
    "### BVS for Ba$_4$Ir$_3$O$_{10}$\n",
    "\n",
    "$b$ is taken as 0.37 $\\unicode{x212B}$. The table gives two $R_0$ values for Ir$^{4+}$-O$^{2-}$ bond, which are 1.909 $\\unicode{x212B}$ and 1.87 $\\unicode{x212B}$\n",
    "\n",
    "<https://www.iucr.org/__data/assets/file/0011/150779/bvparm2020.cif>"
   ]
  },
  {
   "cell_type": "code",
   "execution_count": 2,
   "metadata": {},
   "outputs": [
    {
     "data": {
      "text/plain": [
       "[4.130292594683801,\n",
       " 4.155320111878553,\n",
       " 4.162864707033987,\n",
       " 3.872706144642657,\n",
       " 4.053179077605113,\n",
       " 3.8165819754962285]"
      ]
     },
     "execution_count": 2,
     "metadata": {},
     "output_type": "execute_result"
    }
   ],
   "source": [
    "R0, b = 1.87, 0.37\n",
    "# Ir1-Ir2-Ir1 trimer\n",
    "Ir1 = np.sum(np.exp((R0-np.array([1.920, 2.096, 2.034, 1.978, 2.001, 2.045]))/b)) # Ir1 undoped, ancient paper\n",
    "Ir2 = np.sum(np.exp((R0-np.array([1.994, 2.031, 1.994, 1.994, 2.031, 1.994]))/b)) # Ir2 undoped, ancient paper\n",
    "Ir3 = np.sum(np.exp((R0-np.array([1.975, 1.965, 2.117, 1.941, 2.024, 2.036]))/b)) # Ir1 undoped, Cao's paper\n",
    "Ir4 = np.sum(np.exp((R0-np.array([2.012, 2.012, 2.034, 2.034, 2.051, 2.051]))/b)) # Ir2 undoped, Cao's paper\n",
    "Ir5 = np.sum(np.exp((R0-np.array([1.993, 1.976, 2.116, 1.946, 2.043, 2.041]))/b)) # Ir1 doped, Cao's paper\n",
    "Ir6 = np.sum(np.exp((R0-np.array([2.021, 2.021, 2.036, 2.036, 2.056, 2.056]))/b)) # Ir2 doped, Cao's paper\n",
    "[Ir1, Ir2, Ir3, Ir4, Ir5, Ir6]"
   ]
  },
  {
   "cell_type": "code",
   "execution_count": 3,
   "metadata": {},
   "outputs": [
    {
     "data": {
      "text/plain": [
       "[4.5894200073748,\n",
       " 4.617229608151354,\n",
       " 4.625612867971363,\n",
       " 4.3031999926065785,\n",
       " 4.503734475416243,\n",
       " 4.2408370052701745]"
      ]
     },
     "execution_count": 3,
     "metadata": {},
     "output_type": "execute_result"
    }
   ],
   "source": [
    "R0, b = 1.909, 0.37\n",
    "# Ir1-Ir2-Ir1 trimer\n",
    "Ir1 = np.sum(np.exp((R0-np.array([1.920, 2.096, 2.034, 1.978, 2.001, 2.045]))/b)) # Ir1 undoped, ancient paper\n",
    "Ir2 = np.sum(np.exp((R0-np.array([1.994, 2.031, 1.994, 1.994, 2.031, 1.994]))/b)) # Ir2 undoped, ancient paper\n",
    "Ir3 = np.sum(np.exp((R0-np.array([1.975, 1.965, 2.117, 1.941, 2.024, 2.036]))/b)) # Ir1 undoped, Cao's paper\n",
    "Ir4 = np.sum(np.exp((R0-np.array([2.012, 2.012, 2.034, 2.034, 2.051, 2.051]))/b)) # Ir2 undoped, Cao's paper\n",
    "Ir5 = np.sum(np.exp((R0-np.array([1.993, 1.976, 2.116, 1.946, 2.043, 2.041]))/b)) # Ir1 doped, Cao's paper\n",
    "Ir6 = np.sum(np.exp((R0-np.array([2.021, 2.021, 2.036, 2.036, 2.056, 2.056]))/b)) # Ir2 doped, Cao's paper\n",
    "[Ir1, Ir2, Ir3, Ir4, Ir5, Ir6]"
   ]
  },
  {
   "cell_type": "markdown",
   "metadata": {},
   "source": [
    "### BVS for Ba$_7$Ir$_6$O$_{19}$\n",
    "\n",
    "$b$ is taken as 0.37 $\\unicode{x212B}$. The table gives two $R_0$ values for Ir$^{4+}$-O$^{2-}$ bond, which are 1.909 $\\unicode{x212B}$ and 1.87 $\\unicode{x212B}$\n",
    "\n",
    "<https://www.iucr.org/__data/assets/file/0011/150779/bvparm2020.cif>"
   ]
  },
  {
   "cell_type": "code",
   "execution_count": 4,
   "metadata": {},
   "outputs": [
    {
     "data": {
      "text/plain": [
       "[4.144779551261009, 3.8614247222481715, 4.050353094220941, 4.01885245591004]"
      ]
     },
     "execution_count": 4,
     "metadata": {},
     "output_type": "execute_result"
    }
   ],
   "source": [
    "R0, b = 1.87, 0.37\n",
    "# Ir1-Ir2-Ir1 trimer\n",
    "Ir1 = np.sum(np.exp((R0-np.array([1.99150, 1.98558, 1.98740, 2.03504, 2.02200, 2.02284]))/b)) # Ir1, with 3 edge-sharing connections\n",
    "Ir2 = np.sum(np.exp((R0-np.array([2.06612, 2.03667, 2.02032, 2.03924, 2.03608, 2.00297]))/b)) # Ir2, middle site\n",
    "Ir3 = np.sum(np.exp((R0-np.array([2.03846, 2.03513, 2.06262, 1.96344, 1.97769, 2.02507]))/b)) # Ir3, with 2 edge-sharing connections\n",
    "[Ir1, Ir2, Ir3, np.mean([Ir1, Ir2, Ir3])]"
   ]
  },
  {
   "cell_type": "code",
   "execution_count": 5,
   "metadata": {},
   "outputs": [
    {
     "data": {
      "text/plain": [
       "[4.605517348383277, 4.290664516133183, 4.500594352922132, 4.465592072479531]"
      ]
     },
     "execution_count": 5,
     "metadata": {},
     "output_type": "execute_result"
    }
   ],
   "source": [
    "R0, b = 1.909, 0.37\n",
    "# Ir1-Ir2-Ir1 trimer\n",
    "Ir1 = np.sum(np.exp((R0-np.array([1.99150, 1.98558, 1.98740, 2.03504, 2.02200, 2.02284]))/b)) # Ir1, with 3 edge-sharing connections\n",
    "Ir2 = np.sum(np.exp((R0-np.array([2.06612, 2.03667, 2.02032, 2.03924, 2.03608, 2.00297]))/b)) # Ir2, middle site\n",
    "Ir3 = np.sum(np.exp((R0-np.array([2.03846, 2.03513, 2.06262, 1.96344, 1.97769, 2.02507]))/b)) # Ir3, with 2 edge-sharing connections\n",
    "[Ir1, Ir2, Ir3, np.mean([Ir1, Ir2, Ir3])]"
   ]
  },
  {
   "cell_type": "code",
   "execution_count": null,
   "metadata": {},
   "outputs": [],
   "source": []
  }
 ],
 "metadata": {
  "kernelspec": {
   "display_name": "Python 3 (ipykernel)",
   "language": "python",
   "name": "python3"
  },
  "language_info": {
   "codemirror_mode": {
    "name": "ipython",
    "version": 3
   },
   "file_extension": ".py",
   "mimetype": "text/x-python",
   "name": "python",
   "nbconvert_exporter": "python",
   "pygments_lexer": "ipython3",
   "version": "3.7.12"
  }
 },
 "nbformat": 4,
 "nbformat_minor": 4
}
